{
 "cells": [
  {
   "cell_type": "code",
   "execution_count": 24,
   "metadata": {
    "collapsed": true
   },
   "outputs": [],
   "source": [
    "# takes a driver to target, path to directory of driver.csv's, and returns an RDD labeled with\n",
    "# (driverID, tripID),(x,y,step,label), where a label 1 is from an actual trip, and label 0 is from\n",
    "# a trip randomly sampled from other drivers\n",
    "def labelRDDs(targ_driv, path, K=200):\n",
    "    \"\"\"\n",
    "    :param targ_driv: string, driver we want to create positive and negative labeled data for\n",
    "    :param path: string, path to directory where driver.csvs are stored\n",
    "    :param K: int, number of negative (manufactured) trips to sample\n",
    "    :return: RDD with key, value tuple where key is (driverID, tripID) and value is (x,y,step,label)\n",
    "    \"\"\"\n",
    "    try:\n",
    "        newfile = path + '/tempscsvs.csv'\n",
    "        target = sc.textFile(path + '/' + 'driver_' + targ_driv + '.csv') #load target driver's data\n",
    "        target2 = target.map(lambda x: x.split(',')) #convert from string to list of strings\n",
    "        positives = processRDD(target2, 1.0) #label target driver's RDD\n",
    "        driv_lis = get_drivers(path) #get python list of all possible drivers to sample from\n",
    "        sampdriv, samptrip = random_samples(targ_driv, driv_lis, K) #generate random samples of drivers and tripIDs\n",
    "        samples = sample_data(path, sampdriv, samptrip, newfile) #generate RDD of random samples\n",
    "        samplesRDD = ID_Data(targ_driv, samples, K) #relabel samples to look like target driver's trips\n",
    "        negatives = processRDD(samplesRDD, 0.0) #label samples\n",
    "        finalRDD = positives.union(negatives).cache() #join target driver and samples together\n",
    "        return finalRDD\n",
    "    except Exception as e:\n",
    "        print e"
   ]
  },
  {
   "cell_type": "code",
   "execution_count": 25,
   "metadata": {
    "collapsed": false
   },
   "outputs": [
    {
     "name": "stdout",
     "output_type": "stream",
     "text": [
      "[Errno 2] No such file or directory: '/Users/coolguy/Desktop/ML2Project/Data/processed_data/sample_drivers/driver_.csv'\n",
      "'NoneType' object has no attribute 'map'\n",
      "'NoneType' object has no attribute 'map'\n",
      "'NoneType' object has no attribute '_jrdd_deserializer'\n"
     ]
    }
   ],
   "source": [
    "KKK = labelRDDs('1', path)"
   ]
  },
  {
   "cell_type": "code",
   "execution_count": 10,
   "metadata": {
    "collapsed": false
   },
   "outputs": [
    {
     "data": {
      "text/plain": [
       "['1',\n",
       " '10',\n",
       " '11',\n",
       " '12',\n",
       " '13',\n",
       " '14',\n",
       " '15',\n",
       " '16',\n",
       " '17',\n",
       " '18',\n",
       " '19',\n",
       " '2',\n",
       " '20',\n",
       " '21',\n",
       " '22',\n",
       " '23',\n",
       " '24',\n",
       " '25',\n",
       " '26',\n",
       " '27',\n",
       " '28',\n",
       " '3',\n",
       " '30']"
      ]
     },
     "execution_count": 10,
     "metadata": {},
     "output_type": "execute_result"
    }
   ],
   "source": [
    "A"
   ]
  },
  {
   "cell_type": "code",
   "execution_count": 8,
   "metadata": {
    "collapsed": true
   },
   "outputs": [],
   "source": [
    "#!/usr/bin/env python\n",
    "\n",
    "# this is a pyspark file, not python\n",
    "# functions in this file are meant to read the entire telematic data, and given one driver\n",
    "# produce a new RDD with 400 trips: 200 from original driver, labeled as '1' and sampled\n",
    "# from other drivers labeled as '0'\n",
    "\n",
    "# note: resulting RDD will have 400 trips, the rows of the RDD will be individual observations\n",
    "# from each of those trips - therefore, there will be more then 400 rows\n",
    "\n",
    "# note: these functions expect the data to be stored as multiple CSV files, one for each driver,\n",
    "# stored in the same directory, with the format: 'x, y, driverID, tripID, step'\n",
    "# and named as '1.csv', '2.csv', etc.\n",
    "\n",
    "# note: these functions will output in the format: 'x, y, driverID, tripID, step, label'\n",
    "\n",
    "# import modules\n",
    "import numpy as np\n",
    "import os as os\n",
    "import re as re\n",
    "import fileinput\n",
    "\n",
    "__author__ = \"Su-Young Hong AKA Da Masta Killa AKA Synth Pop Rocks of Locks AKA Intergalactic Chilympian\"\n",
    "__status__ = \"Prototype\"\n",
    "\n",
    "# read directory of files and return a list of all driverIDs from csv's insid directory\n",
    "def get_drivers(dirpath):\n",
    "    \"\"\"\n",
    "    :param dirpath: string, path to directory containing driver csv's\n",
    "    :return: list, contains all driverIDs as strings\n",
    "    \"\"\"\n",
    "    try:\n",
    "        allfiles = os.listdir(dirpath)\n",
    "        drivers = [re.sub(r'[^0-9]', '', i) for i in allfiles]\n",
    "        drivers.remove('')\n",
    "        return drivers\n",
    "    except Exception as e:\n",
    "        print e"
   ]
  },
  {
   "cell_type": "code",
   "execution_count": null,
   "metadata": {
    "collapsed": true
   },
   "outputs": [],
   "source": [
    "# produces random samples of driverIDs and tripIDs in two separate lists\n",
    "def random_samples(targ_driv, driv_list, K=200):\n",
    "    \"\"\"\n",
    "    :param targ_driv: str, driverID we want to make false trips for\n",
    "    :param driv_list: list, list of all drivers, produced by get_drivers()\n",
    "    :param K: number of trips we want to make for targ_driv\n",
    "    :return: tuple of lists, first list is random driverIDs, second list is list of tripIDs, both are strings\n",
    "    \"\"\"\n",
    "    try:\n",
    "        driv_list.remove(targ_driv) #removes the target driver from list of drivers to sample from\n",
    "        drivers = np.random.choice(driv_list, K, True)\n",
    "        trips = np.random.choice(np.arange(1,K+1).astype(str), K, True)\n",
    "        return (drivers, trips)\n",
    "    except Exception as e:\n",
    "        print e"
   ]
  },
  {
   "cell_type": "code",
   "execution_count": 11,
   "metadata": {
    "collapsed": true
   },
   "outputs": [],
   "source": [
    "B = random_samples(driver, A)"
   ]
  },
  {
   "cell_type": "code",
   "execution_count": 12,
   "metadata": {
    "collapsed": false
   },
   "outputs": [
    {
     "data": {
      "text/plain": [
       "(array(['15', '18', '14', '20', '19', '16', '18', '14', '19', '30', '24',\n",
       "        '23', '12', '3', '28', '30', '18', '25', '22', '21', '27', '3',\n",
       "        '26', '23', '12', '19', '10', '18', '17', '14', '26', '26', '10',\n",
       "        '22', '25', '14', '2', '12', '20', '19', '12', '22', '22', '15',\n",
       "        '23', '28', '13', '10', '11', '14', '11', '19', '20', '30', '17',\n",
       "        '16', '26', '20', '16', '16', '25', '13', '12', '19', '17', '11',\n",
       "        '26', '14', '30', '3', '25', '19', '25', '14', '3', '27', '18',\n",
       "        '13', '13', '30', '2', '2', '16', '25', '13', '21', '12', '24',\n",
       "        '28', '25', '30', '26', '25', '16', '12', '28', '21', '21', '16',\n",
       "        '19', '24', '20', '25', '10', '21', '19', '23', '23', '23', '23',\n",
       "        '23', '12', '23', '19', '16', '15', '13', '22', '11', '12', '28',\n",
       "        '30', '23', '14', '25', '10', '13', '23', '28', '15', '16', '11',\n",
       "        '16', '22', '2', '10', '10', '10', '25', '10', '23', '11', '23',\n",
       "        '20', '28', '21', '26', '15', '22', '21', '13', '15', '28', '14',\n",
       "        '21', '17', '17', '11', '15', '19', '3', '14', '21', '28', '23',\n",
       "        '23', '3', '11', '26', '21', '19', '28', '11', '12', '24', '3',\n",
       "        '28', '25', '14', '23', '21', '27', '21', '14', '13', '25', '12',\n",
       "        '11', '25', '19', '13', '21', '13', '17', '18', '10', '17', '19',\n",
       "        '27', '28'], \n",
       "       dtype='|S2'),\n",
       " array(['61', '86', '2', '122', '13', '120', '21', '143', '66', '18', '126',\n",
       "        '57', '190', '187', '47', '100', '34', '29', '155', '68', '49',\n",
       "        '123', '92', '6', '161', '1', '133', '44', '180', '183', '15', '3',\n",
       "        '8', '177', '17', '85', '61', '5', '21', '186', '128', '73', '33',\n",
       "        '102', '15', '106', '147', '12', '127', '138', '49', '148', '64',\n",
       "        '144', '171', '84', '64', '124', '65', '167', '173', '6', '8',\n",
       "        '118', '106', '58', '89', '194', '167', '45', '62', '190', '83',\n",
       "        '100', '8', '30', '141', '100', '156', '43', '140', '102', '148',\n",
       "        '136', '35', '4', '170', '40', '83', '178', '128', '76', '28', '42',\n",
       "        '96', '47', '15', '147', '64', '188', '129', '91', '37', '196',\n",
       "        '123', '154', '89', '193', '95', '178', '72', '28', '20', '29',\n",
       "        '44', '26', '99', '72', '148', '71', '2', '52', '161', '71', '89',\n",
       "        '148', '146', '167', '199', '113', '127', '69', '115', '53', '41',\n",
       "        '13', '70', '115', '181', '109', '191', '100', '81', '73', '192',\n",
       "        '28', '44', '23', '162', '192', '4', '178', '194', '79', '94', '1',\n",
       "        '28', '85', '46', '106', '27', '59', '108', '60', '198', '58', '21',\n",
       "        '89', '25', '173', '153', '127', '22', '29', '65', '95', '194',\n",
       "        '72', '86', '192', '118', '127', '84', '5', '171', '116', '95',\n",
       "        '158', '95', '132', '186', '52', '135', '36', '61', '89', '115',\n",
       "        '20', '180', '173'], \n",
       "       dtype='|S21'))"
      ]
     },
     "execution_count": 12,
     "metadata": {},
     "output_type": "execute_result"
    }
   ],
   "source": [
    "B\n"
   ]
  },
  {
   "cell_type": "code",
   "execution_count": 13,
   "metadata": {
    "collapsed": true
   },
   "outputs": [],
   "source": [
    "# reads directory of files and returns RDD of observations from trips in the sample (driverID, tripID combo)\n",
    "# NOTE: this function is VERY SLOW, it is what slows the entire workflow down\n",
    "def sample_data(path, driverIDs, tripIDs, newfile):\n",
    "    \"\"\"\n",
    "    :param path: string, path to directory containing driver.csv's\n",
    "    :param driverIDs: list, list of randomly sampled driverIDs as strings, produced by random_sample()\n",
    "    :param tripIDs: list, list of randomly sampled tripIDs as strings, produced by random_samples()\n",
    "        NOTE: the above two zip into a list of (driverID, tripID) tuples, with each tuple being a single item in the\n",
    "        sample\n",
    "    :return: RDD, contains only observations from the sample\n",
    "    \"\"\"\n",
    "    try:\n",
    "        combos = zip(driverIDs, tripIDs)\n",
    "        samplefiles = [path + '/' + 'driver_' + i + '.csv' for i in set(driverIDs)]\n",
    "        fpw = open(newfile, 'w')\n",
    "        fpr = fileinput.input(samplefiles)\n",
    "        for line in fpr:\n",
    "            fpw.write(line)\n",
    "        fpw.close()\n",
    "        fpr.close()\n",
    "        RDD = sc.textFile(newfile)   #### NOTE: with large num. files, might need to set num. partitions\n",
    "        RDDsplit = RDD.map(lambda x: x.split(','))\n",
    "        RDDsamples = RDDsplit.filter(lambda x: (x[2],x[3]) in combos)\n",
    "        RDDsamples.cache()\n",
    "        return RDDsamples\n",
    "    except Exception as e:\n",
    "        print e"
   ]
  },
  {
   "cell_type": "code",
   "execution_count": 14,
   "metadata": {
    "collapsed": true
   },
   "outputs": [],
   "source": [
    "newthingy = path + '/tempscsvs.csv'"
   ]
  },
  {
   "cell_type": "code",
   "execution_count": 16,
   "metadata": {
    "collapsed": true
   },
   "outputs": [],
   "source": [
    "C = sample_data(path, B[0],B[1], newthingy)"
   ]
  },
  {
   "cell_type": "code",
   "execution_count": 17,
   "metadata": {
    "collapsed": false
   },
   "outputs": [
    {
     "data": {
      "text/plain": [
       "126389"
      ]
     },
     "execution_count": 17,
     "metadata": {},
     "output_type": "execute_result"
    }
   ],
   "source": [
    "C.count()"
   ]
  },
  {
   "cell_type": "code",
   "execution_count": null,
   "metadata": {
    "collapsed": true
   },
   "outputs": [],
   "source": [
    "# takes RDD of samples and assigns new driverID and tripID to observations in a new RDD\n",
    "def ID_Data(targ_driver, RDD, K = 200):\n",
    "    \"\"\"\n",
    "    :param targ_driver: string, target driver we used to generate samples\n",
    "    :param RDD: RDD, trip data RDD produced by sample_data(), format will be original form (x,y,driverID,tripID,step)\n",
    "    :param K: int, number of trips we sampled\n",
    "    :return: RDD, in original format, but with driverID and tripID changed to look like new observations of the target\n",
    "    driver\n",
    "    \"\"\"\n",
    "    try:\n",
    "        newID1 = [targ_driver] * K\n",
    "        newID2 = np.arange(200, 201+K).astype(str)\n",
    "        newID = zip(newID1, newID2)\n",
    "        oldID = RDD.map(lambda x: (x[2],x[3])).distinct().collect()\n",
    "        glossary = sc.parallelize(zip(oldID, newID))\n",
    "        newRDD = RDD.map(lambda x: ((x[2],x[3]), ([x[0],x[1],x[4]]))).join(glossary)\n",
    "        newID_RDD = newRDD.map(lambda x: (x[1][0][0], x[1][0][1], x[1][1][0], x[1][1][1], x[1][0][2]))\n",
    "        return newID_RDD\n",
    "    except Exception as e:\n",
    "        print e"
   ]
  },
  {
   "cell_type": "code",
   "execution_count": 20,
   "metadata": {
    "collapsed": true
   },
   "outputs": [],
   "source": [
    "D = ID_Data('1', C)"
   ]
  },
  {
   "cell_type": "code",
   "execution_count": 21,
   "metadata": {
    "collapsed": false
   },
   "outputs": [
    {
     "data": {
      "text/plain": [
       "(u'0.0', u'0.0', '1', '221', u'0')"
      ]
     },
     "execution_count": 21,
     "metadata": {},
     "output_type": "execute_result"
    }
   ],
   "source": [
    "D.first()"
   ]
  },
  {
   "cell_type": "code",
   "execution_count": null,
   "metadata": {
    "collapsed": true
   },
   "outputs": [],
   "source": [
    "# takes RDD in original form and converts it into key-value tuple with values being x,y,step,label\n",
    "def processRDD(RDD, label):\n",
    "    \"\"\"\n",
    "    :param RDD: RDD in original format (x,y,driverID,tripID,step)\n",
    "    :param label: category of observation, 1 for positive, 0 for negative\n",
    "    # note, not sure if it needs to be int or float\n",
    "    :return: RDD, RDD returned in new key/value format: (driverID, tripID), (x, y, step, label)\n",
    "    # note, x, y, step, and label will be floats\n",
    "    \"\"\"\n",
    "    try:\n",
    "        newRDD = RDD.map(lambda x: ((x[2],x[3]),(float(x[0]),float(x[1]),float(x[4]),label)))\n",
    "        return newRDD\n",
    "    except Exception as e:\n",
    "        print e"
   ]
  },
  {
   "cell_type": "code",
   "execution_count": null,
   "metadata": {
    "collapsed": true
   },
   "outputs": [],
   "source": [
    "processRDD()"
   ]
  },
  {
   "cell_type": "code",
   "execution_count": 4,
   "metadata": {
    "collapsed": false
   },
   "outputs": [
    {
     "name": "stdout",
     "output_type": "stream",
     "text": [
      "[Errno 2] No such file or directory: ''\n"
     ]
    }
   ],
   "source": [
    "\n",
    "path = '/Users/coolguy/Desktop/ML2Project/Data/processed_data/sample_drivers'\n",
    "driver = '1'\n",
    "newRDD = labelRDDs(driver, path)\n"
   ]
  },
  {
   "cell_type": "code",
   "execution_count": 7,
   "metadata": {
    "collapsed": false
   },
   "outputs": [
    {
     "data": {
      "text/plain": [
       "['1',\n",
       " '10',\n",
       " '11',\n",
       " '12',\n",
       " '13',\n",
       " '14',\n",
       " '15',\n",
       " '16',\n",
       " '17',\n",
       " '18',\n",
       " '19',\n",
       " '2',\n",
       " '20',\n",
       " '21',\n",
       " '22',\n",
       " '23',\n",
       " '24',\n",
       " '25',\n",
       " '26',\n",
       " '27',\n",
       " '28',\n",
       " '3',\n",
       " '30']"
      ]
     },
     "execution_count": 7,
     "metadata": {},
     "output_type": "execute_result"
    }
   ],
   "source": [
    "get_drivers(path)"
   ]
  },
  {
   "cell_type": "code",
   "execution_count": null,
   "metadata": {
    "collapsed": true
   },
   "outputs": [],
   "source": []
  }
 ],
 "metadata": {
  "kernelspec": {
   "display_name": "Python 2",
   "language": "python",
   "name": "python2"
  },
  "language_info": {
   "codemirror_mode": {
    "name": "ipython",
    "version": 2
   },
   "file_extension": ".py",
   "mimetype": "text/x-python",
   "name": "python",
   "nbconvert_exporter": "python",
   "pygments_lexer": "ipython2",
   "version": "2.7.10"
  }
 },
 "nbformat": 4,
 "nbformat_minor": 0
}
