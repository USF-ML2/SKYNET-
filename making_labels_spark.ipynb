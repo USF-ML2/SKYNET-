{
 "cells": [
  {
   "cell_type": "code",
   "execution_count": null,
   "metadata": {
    "collapsed": true
   },
   "outputs": [],
   "source": [
    "import numpy as np"
   ]
  },
  {
   "cell_type": "code",
   "execution_count": null,
   "metadata": {
    "collapsed": false
   },
   "outputs": [],
   "source": []
  },
  {
   "cell_type": "code",
   "execution_count": 92,
   "metadata": {
    "collapsed": true
   },
   "outputs": [],
   "source": [
    "def sampleOne(driver, driver_tripList, K = 200):\n",
    "    \"\"\"\n",
    "    :param: driver: int, the ID if of the driver you want to simulate fake trips for\n",
    "    :param: driver_tripList: list, list of tuples of unique (driver, trip)\n",
    "    :param: K: int, number of fake trips you want to create\n",
    "    :output: faketrips: list, tuple of tuples with ((real_driverID, real_tripID),(fake_driver, fake_trip))\n",
    "    \"\"\"\n",
    "    candidates = [x for x in driver_tripList if x[0] != driver]\n",
    "    samples = np.random.choice(np.arange(0,len(candidates)), K, True)\n",
    "    sampleTups = [candidates[x] for x in samples]\n",
    "    IDDriv = [driver] * K\n",
    "    IDTrip = np.arange(1,K+1) + K\n",
    "    sampleIDs = zip(IDDriv, IDTrip)\n",
    "    faketrips = zip(sampleTups, sampleIDs)\n",
    "    return faketrips"
   ]
  },
  {
   "cell_type": "code",
   "execution_count": null,
   "metadata": {
    "collapsed": true
   },
   "outputs": [],
   "source": [
    "def labelOne(rdd, driver, K = 200):\n",
    "    \"\"\"\n",
    "    :paraasldkjfljkadsf\n",
    "    \"\"\"\n",
    "    driver_tripList = set(rdd.map(lambda line: line[0]).collect)\n",
    "    samples = sampleOne(driver, driver_tripList, K = K)\n",
    "    rddfilter = rdd.filter(lambda x: x[0] in zip(*samples)[0])\n",
    "    rddsamples = sc.parallelize(samples)\n",
    "    rddnews = rddfilter.join(rddsamples)\n",
    "    rddzeros = rddnews.map(lambda x: (x[1][1],x[1][0],0.0))\n",
    "    rddones = rdd.filter(lambda x: x[0][0] == driver)\n",
    "    rddones = rddones.map(lambda x: (x[0],x[1],1))\n",
    "    finalrdd = rddones.union(rddzeros)\n",
    "    return finalrdd"
   ]
  },
  {
   "cell_type": "code",
   "execution_count": 94,
   "metadata": {
    "collapsed": false
   },
   "outputs": [
    {
     "data": {
      "text/plain": [
       "[(1, 1), (1, 1), (1, 1), (2, 1), (2, 1), (2, 2)]"
      ]
     },
     "execution_count": 94,
     "metadata": {},
     "output_type": "execute_result"
    }
   ],
   "source": [
    "test.map(lambda x:x[0]).collect()"
   ]
  },
  {
   "cell_type": "code",
   "execution_count": 99,
   "metadata": {
    "collapsed": false
   },
   "outputs": [
    {
     "data": {
      "text/plain": [
       "[((1, 2), (2, 201)),\n",
       " ((1, 1), (2, 202)),\n",
       " ((1, 1), (2, 203)),\n",
       " ((1, 1), (2, 204)),\n",
       " ((1, 1), (2, 205)),\n",
       " ((1, 1), (2, 206)),\n",
       " ((1, 1), (2, 207)),\n",
       " ((1, 1), (2, 208)),\n",
       " ((1, 1), (2, 209)),\n",
       " ((1, 2), (2, 210)),\n",
       " ((1, 1), (2, 211)),\n",
       " ((1, 1), (2, 212)),\n",
       " ((1, 2), (2, 213)),\n",
       " ((1, 2), (2, 214)),\n",
       " ((1, 2), (2, 215)),\n",
       " ((1, 1), (2, 216)),\n",
       " ((1, 1), (2, 217)),\n",
       " ((1, 1), (2, 218)),\n",
       " ((1, 2), (2, 219)),\n",
       " ((1, 1), (2, 220)),\n",
       " ((1, 2), (2, 221)),\n",
       " ((1, 1), (2, 222)),\n",
       " ((1, 1), (2, 223)),\n",
       " ((1, 2), (2, 224)),\n",
       " ((1, 1), (2, 225)),\n",
       " ((1, 1), (2, 226)),\n",
       " ((1, 2), (2, 227)),\n",
       " ((1, 1), (2, 228)),\n",
       " ((1, 1), (2, 229)),\n",
       " ((1, 1), (2, 230)),\n",
       " ((1, 1), (2, 231)),\n",
       " ((1, 2), (2, 232)),\n",
       " ((1, 1), (2, 233)),\n",
       " ((1, 2), (2, 234)),\n",
       " ((1, 2), (2, 235)),\n",
       " ((1, 1), (2, 236)),\n",
       " ((1, 1), (2, 237)),\n",
       " ((1, 1), (2, 238)),\n",
       " ((1, 1), (2, 239)),\n",
       " ((1, 1), (2, 240)),\n",
       " ((1, 2), (2, 241)),\n",
       " ((1, 1), (2, 242)),\n",
       " ((1, 1), (2, 243)),\n",
       " ((1, 1), (2, 244)),\n",
       " ((1, 1), (2, 245)),\n",
       " ((1, 1), (2, 246)),\n",
       " ((1, 1), (2, 247)),\n",
       " ((1, 1), (2, 248)),\n",
       " ((1, 1), (2, 249)),\n",
       " ((1, 2), (2, 250)),\n",
       " ((1, 1), (2, 251)),\n",
       " ((1, 1), (2, 252)),\n",
       " ((1, 2), (2, 253)),\n",
       " ((1, 1), (2, 254)),\n",
       " ((1, 1), (2, 255)),\n",
       " ((1, 2), (2, 256)),\n",
       " ((1, 2), (2, 257)),\n",
       " ((1, 1), (2, 258)),\n",
       " ((1, 1), (2, 259)),\n",
       " ((1, 1), (2, 260)),\n",
       " ((1, 1), (2, 261)),\n",
       " ((1, 2), (2, 262)),\n",
       " ((1, 1), (2, 263)),\n",
       " ((1, 1), (2, 264)),\n",
       " ((1, 2), (2, 265)),\n",
       " ((1, 1), (2, 266)),\n",
       " ((1, 1), (2, 267)),\n",
       " ((1, 1), (2, 268)),\n",
       " ((1, 2), (2, 269)),\n",
       " ((1, 1), (2, 270)),\n",
       " ((1, 2), (2, 271)),\n",
       " ((1, 1), (2, 272)),\n",
       " ((1, 1), (2, 273)),\n",
       " ((1, 1), (2, 274)),\n",
       " ((1, 1), (2, 275)),\n",
       " ((1, 2), (2, 276)),\n",
       " ((1, 1), (2, 277)),\n",
       " ((1, 2), (2, 278)),\n",
       " ((1, 2), (2, 279)),\n",
       " ((1, 1), (2, 280)),\n",
       " ((1, 1), (2, 281)),\n",
       " ((1, 2), (2, 282)),\n",
       " ((1, 1), (2, 283)),\n",
       " ((1, 2), (2, 284)),\n",
       " ((1, 1), (2, 285)),\n",
       " ((1, 1), (2, 286)),\n",
       " ((1, 2), (2, 287)),\n",
       " ((1, 2), (2, 288)),\n",
       " ((1, 1), (2, 289)),\n",
       " ((1, 2), (2, 290)),\n",
       " ((1, 2), (2, 291)),\n",
       " ((1, 2), (2, 292)),\n",
       " ((1, 1), (2, 293)),\n",
       " ((1, 2), (2, 294)),\n",
       " ((1, 1), (2, 295)),\n",
       " ((1, 2), (2, 296)),\n",
       " ((1, 1), (2, 297)),\n",
       " ((1, 2), (2, 298)),\n",
       " ((1, 1), (2, 299)),\n",
       " ((1, 2), (2, 300)),\n",
       " ((1, 1), (2, 301)),\n",
       " ((1, 1), (2, 302)),\n",
       " ((1, 1), (2, 303)),\n",
       " ((1, 1), (2, 304)),\n",
       " ((1, 1), (2, 305)),\n",
       " ((1, 1), (2, 306)),\n",
       " ((1, 1), (2, 307)),\n",
       " ((1, 2), (2, 308)),\n",
       " ((1, 2), (2, 309)),\n",
       " ((1, 2), (2, 310)),\n",
       " ((1, 2), (2, 311)),\n",
       " ((1, 1), (2, 312)),\n",
       " ((1, 1), (2, 313)),\n",
       " ((1, 1), (2, 314)),\n",
       " ((1, 1), (2, 315)),\n",
       " ((1, 2), (2, 316)),\n",
       " ((1, 1), (2, 317)),\n",
       " ((1, 2), (2, 318)),\n",
       " ((1, 2), (2, 319)),\n",
       " ((1, 1), (2, 320)),\n",
       " ((1, 1), (2, 321)),\n",
       " ((1, 1), (2, 322)),\n",
       " ((1, 2), (2, 323)),\n",
       " ((1, 1), (2, 324)),\n",
       " ((1, 2), (2, 325)),\n",
       " ((1, 1), (2, 326)),\n",
       " ((1, 1), (2, 327)),\n",
       " ((1, 1), (2, 328)),\n",
       " ((1, 2), (2, 329)),\n",
       " ((1, 2), (2, 330)),\n",
       " ((1, 2), (2, 331)),\n",
       " ((1, 2), (2, 332)),\n",
       " ((1, 1), (2, 333)),\n",
       " ((1, 2), (2, 334)),\n",
       " ((1, 2), (2, 335)),\n",
       " ((1, 2), (2, 336)),\n",
       " ((1, 1), (2, 337)),\n",
       " ((1, 1), (2, 338)),\n",
       " ((1, 2), (2, 339)),\n",
       " ((1, 2), (2, 340)),\n",
       " ((1, 2), (2, 341)),\n",
       " ((1, 1), (2, 342)),\n",
       " ((1, 1), (2, 343)),\n",
       " ((1, 1), (2, 344)),\n",
       " ((1, 1), (2, 345)),\n",
       " ((1, 1), (2, 346)),\n",
       " ((1, 1), (2, 347)),\n",
       " ((1, 1), (2, 348)),\n",
       " ((1, 2), (2, 349)),\n",
       " ((1, 1), (2, 350)),\n",
       " ((1, 2), (2, 351)),\n",
       " ((1, 1), (2, 352)),\n",
       " ((1, 2), (2, 353)),\n",
       " ((1, 1), (2, 354)),\n",
       " ((1, 1), (2, 355)),\n",
       " ((1, 1), (2, 356)),\n",
       " ((1, 2), (2, 357)),\n",
       " ((1, 1), (2, 358)),\n",
       " ((1, 1), (2, 359)),\n",
       " ((1, 2), (2, 360)),\n",
       " ((1, 1), (2, 361)),\n",
       " ((1, 1), (2, 362)),\n",
       " ((1, 1), (2, 363)),\n",
       " ((1, 1), (2, 364)),\n",
       " ((1, 1), (2, 365)),\n",
       " ((1, 1), (2, 366)),\n",
       " ((1, 2), (2, 367)),\n",
       " ((1, 1), (2, 368)),\n",
       " ((1, 1), (2, 369)),\n",
       " ((1, 1), (2, 370)),\n",
       " ((1, 2), (2, 371)),\n",
       " ((1, 1), (2, 372)),\n",
       " ((1, 1), (2, 373)),\n",
       " ((1, 2), (2, 374)),\n",
       " ((1, 1), (2, 375)),\n",
       " ((1, 1), (2, 376)),\n",
       " ((1, 2), (2, 377)),\n",
       " ((1, 1), (2, 378)),\n",
       " ((1, 1), (2, 379)),\n",
       " ((1, 1), (2, 380)),\n",
       " ((1, 1), (2, 381)),\n",
       " ((1, 1), (2, 382)),\n",
       " ((1, 1), (2, 383)),\n",
       " ((1, 1), (2, 384)),\n",
       " ((1, 1), (2, 385)),\n",
       " ((1, 2), (2, 386)),\n",
       " ((1, 1), (2, 387)),\n",
       " ((1, 1), (2, 388)),\n",
       " ((1, 1), (2, 389)),\n",
       " ((1, 1), (2, 390)),\n",
       " ((1, 1), (2, 391)),\n",
       " ((1, 1), (2, 392)),\n",
       " ((1, 1), (2, 393)),\n",
       " ((1, 2), (2, 394)),\n",
       " ((1, 1), (2, 395)),\n",
       " ((1, 2), (2, 396)),\n",
       " ((1, 2), (2, 397)),\n",
       " ((1, 1), (2, 398)),\n",
       " ((1, 2), (2, 399)),\n",
       " ((1, 1), (2, 400))]"
      ]
     },
     "execution_count": 99,
     "metadata": {},
     "output_type": "execute_result"
    }
   ],
   "source": [
    "sampleOne(2, test.map(lambda x:x[0]).collect())"
   ]
  },
  {
   "cell_type": "code",
   "execution_count": 97,
   "metadata": {
    "collapsed": true
   },
   "outputs": [],
   "source": [
    "test = sc.parallelize([((1,1),(0,0)),((1,1),(2,1)),((1,2),(4,1)),((2,1),(5,2)),((2,1),(8,1)),((2,2),(6,5))])"
   ]
  },
  {
   "cell_type": "code",
   "execution_count": 98,
   "metadata": {
    "collapsed": false
   },
   "outputs": [
    {
     "data": {
      "text/plain": [
       "[((1, 1), (0, 0)),\n",
       " ((1, 1), (2, 1)),\n",
       " ((1, 2), (4, 1)),\n",
       " ((2, 1), (5, 2)),\n",
       " ((2, 1), (8, 1)),\n",
       " ((2, 2), (6, 5))]"
      ]
     },
     "execution_count": 98,
     "metadata": {},
     "output_type": "execute_result"
    }
   ],
   "source": [
    "test.collect()"
   ]
  },
  {
   "cell_type": "code",
   "execution_count": 61,
   "metadata": {
    "collapsed": true
   },
   "outputs": [],
   "source": [
    "# create fake lists for driver, returns list of tuples ((real driver, real trip),(driver being simulated, trip being simulated))\n",
    "def sampleOne(driver, driver_list, trip_list, K = 200):\n",
    "    otherDriv = [x for x in driver_list if x != driver]\n",
    "    randDriv= np.random.choice(otherDriv, K, True)\n",
    "    randTrip = np.random.choice(trip_list, K, True)\n",
    "    IDDriv = [driver] * K\n",
    "    IDTrip = np.arange(1,K+1) + K\n",
    "    sampleIDs = zip(IDDriv, IDTrip)\n",
    "    sample = zip(randDriv, randTrip)\n",
    "    result = zip(sample, sampleIDs)\n",
    "    return list"
   ]
  },
  {
   "cell_type": "code",
   "execution_count": null,
   "metadata": {
    "collapsed": true
   },
   "outputs": [],
   "source": []
  },
  {
   "cell_type": "code",
   "execution_count": null,
   "metadata": {
    "collapsed": true
   },
   "outputs": [],
   "source": [
    "def labelMethod1(x):\n",
    "    drivers = x.map(lambda line: line[0][0]).collect()\n",
    "    trips = x.map(lambda line: line[0][1]).collect()\n",
    "    totSamp = []\n",
    "    for i in drivers: \n",
    "        otherDriv = [x for x in drivers if x != i]\n",
    "        randDriv= np.random.choice(otherDriv, 200, True)\n",
    "        randTrip = np.random.choice(trips, 200, True)\n",
    "        IDDriv = [i] * 200\n",
    "        IDTrip = np.arange(1,201) + 200\n",
    "        sampleIDs = zip(IDDriv, IDTrip)\n",
    "        sample = zip(randDriv, randTrip)\n",
    "        result = zip(sample, sampleIDs)\n",
    "        \n",
    "        \n",
    "        "
   ]
  },
  {
   "cell_type": "code",
   "execution_count": 4,
   "metadata": {
    "collapsed": false
   },
   "outputs": [
    {
     "data": {
      "text/plain": [
       "PythonRDD[2] at RDD at PythonRDD.scala:43"
      ]
     },
     "execution_count": 4,
     "metadata": {},
     "output_type": "execute_result"
    }
   ],
   "source": [
    "test.sample(False,.3)"
   ]
  },
  {
   "cell_type": "code",
   "execution_count": 6,
   "metadata": {
    "collapsed": true
   },
   "outputs": [],
   "source": [
    "K = [1,2,4]"
   ]
  },
  {
   "cell_type": "code",
   "execution_count": 26,
   "metadata": {
    "collapsed": false
   },
   "outputs": [
    {
     "data": {
      "text/plain": [
       "[1, 1, 1, 1, 1]"
      ]
     },
     "execution_count": 26,
     "metadata": {},
     "output_type": "execute_result"
    }
   ],
   "source": [
    "[1]*5"
   ]
  },
  {
   "cell_type": "code",
   "execution_count": 34,
   "metadata": {
    "collapsed": false
   },
   "outputs": [
    {
     "data": {
      "text/plain": [
       "array([201, 202, 203, 204, 205, 206, 207, 208, 209, 210, 211, 212, 213,\n",
       "       214, 215, 216, 217, 218, 219, 220, 221, 222, 223, 224, 225, 226,\n",
       "       227, 228, 229, 230, 231, 232, 233, 234, 235, 236, 237, 238, 239,\n",
       "       240, 241, 242, 243, 244, 245, 246, 247, 248, 249, 250, 251, 252,\n",
       "       253, 254, 255, 256, 257, 258, 259, 260, 261, 262, 263, 264, 265,\n",
       "       266, 267, 268, 269, 270, 271, 272, 273, 274, 275, 276, 277, 278,\n",
       "       279, 280, 281, 282, 283, 284, 285, 286, 287, 288, 289, 290, 291,\n",
       "       292, 293, 294, 295, 296, 297, 298, 299, 300, 301, 302, 303, 304,\n",
       "       305, 306, 307, 308, 309, 310, 311, 312, 313, 314, 315, 316, 317,\n",
       "       318, 319, 320, 321, 322, 323, 324, 325, 326, 327, 328, 329, 330,\n",
       "       331, 332, 333, 334, 335, 336, 337, 338, 339, 340, 341, 342, 343,\n",
       "       344, 345, 346, 347, 348, 349, 350, 351, 352, 353, 354, 355, 356,\n",
       "       357, 358, 359, 360, 361, 362, 363, 364, 365, 366, 367, 368, 369,\n",
       "       370, 371, 372, 373, 374, 375, 376, 377, 378, 379, 380, 381, 382,\n",
       "       383, 384, 385, 386, 387, 388, 389, 390, 391, 392, 393, 394, 395,\n",
       "       396, 397, 398, 399, 400])"
      ]
     },
     "execution_count": 34,
     "metadata": {},
     "output_type": "execute_result"
    }
   ],
   "source": [
    "np.arange(1,201) + 200"
   ]
  },
  {
   "cell_type": "code",
   "execution_count": 9,
   "metadata": {
    "collapsed": false
   },
   "outputs": [
    {
     "data": {
      "text/plain": [
       "[1, 2, 4]"
      ]
     },
     "execution_count": 9,
     "metadata": {},
     "output_type": "execute_result"
    }
   ],
   "source": [
    "[i for i in K]"
   ]
  },
  {
   "cell_type": "code",
   "execution_count": 20,
   "metadata": {
    "collapsed": false
   },
   "outputs": [
    {
     "data": {
      "text/plain": [
       "array([2, 2, 2, 1, 1, 4, 4, 4, 1, 4])"
      ]
     },
     "execution_count": 20,
     "metadata": {},
     "output_type": "execute_result"
    }
   ],
   "source": [
    "np.random.choice(K,10, True)"
   ]
  },
  {
   "cell_type": "code",
   "execution_count": 36,
   "metadata": {
    "collapsed": false
   },
   "outputs": [],
   "source": [
    "ONE = zip(np.random.choice(K,10, True),np.random.choice(K,10, True)) + zip(np.random.choice(K,10, True),np.random.choice(K,10, True))"
   ]
  },
  {
   "cell_type": "code",
   "execution_count": 22,
   "metadata": {
    "collapsed": false
   },
   "outputs": [
    {
     "data": {
      "text/plain": [
       "[1, 2, 4, 1, 2, 4]"
      ]
     },
     "execution_count": 22,
     "metadata": {},
     "output_type": "execute_result"
    }
   ],
   "source": [
    "K + K"
   ]
  },
  {
   "cell_type": "code",
   "execution_count": 38,
   "metadata": {
    "collapsed": false
   },
   "outputs": [],
   "source": [
    "J = ['a','b','c']"
   ]
  },
  {
   "cell_type": "code",
   "execution_count": 42,
   "metadata": {
    "collapsed": false
   },
   "outputs": [],
   "source": [
    "OOO = zip(np.random.choice(K,10, True), np.random.choice(K,10, True))"
   ]
  },
  {
   "cell_type": "code",
   "execution_count": 43,
   "metadata": {
    "collapsed": true
   },
   "outputs": [],
   "source": [
    "KKK = zip(np.random.choice(J,10, True), np.random.choice(J,10, True))"
   ]
  },
  {
   "cell_type": "code",
   "execution_count": 44,
   "metadata": {
    "collapsed": false
   },
   "outputs": [
    {
     "data": {
      "text/plain": [
       "[(4, 2),\n",
       " (4, 1),\n",
       " (2, 4),\n",
       " (2, 4),\n",
       " (1, 1),\n",
       " (2, 4),\n",
       " (1, 1),\n",
       " (4, 2),\n",
       " (1, 2),\n",
       " (1, 2)]"
      ]
     },
     "execution_count": 44,
     "metadata": {},
     "output_type": "execute_result"
    }
   ],
   "source": [
    "OOO"
   ]
  },
  {
   "cell_type": "code",
   "execution_count": 46,
   "metadata": {
    "collapsed": false
   },
   "outputs": [
    {
     "data": {
      "text/plain": [
       "[('a', 'a'),\n",
       " ('c', 'b'),\n",
       " ('c', 'c'),\n",
       " ('a', 'a'),\n",
       " ('a', 'b'),\n",
       " ('b', 'b'),\n",
       " ('c', 'c'),\n",
       " ('b', 'b'),\n",
       " ('a', 'a'),\n",
       " ('c', 'c')]"
      ]
     },
     "execution_count": 46,
     "metadata": {},
     "output_type": "execute_result"
    }
   ],
   "source": [
    "KKK"
   ]
  },
  {
   "cell_type": "code",
   "execution_count": 49,
   "metadata": {
    "collapsed": false
   },
   "outputs": [],
   "source": [
    "TTT = zip(OOO, KKK)"
   ]
  },
  {
   "cell_type": "code",
   "execution_count": 52,
   "metadata": {
    "collapsed": false
   },
   "outputs": [
    {
     "data": {
      "text/plain": [
       "True"
      ]
     },
     "execution_count": 52,
     "metadata": {},
     "output_type": "execute_result"
    }
   ],
   "source": [
    "(4,2) in zip(*TTT)[0]"
   ]
  },
  {
   "cell_type": "code",
   "execution_count": 54,
   "metadata": {
    "collapsed": false
   },
   "outputs": [],
   "source": [
    "check = sc.parallelize(TTT)"
   ]
  },
  {
   "cell_type": "code",
   "execution_count": 58,
   "metadata": {
    "collapsed": false
   },
   "outputs": [
    {
     "data": {
      "text/plain": [
       "((4, 2), ('a', 'a'))"
      ]
     },
     "execution_count": 58,
     "metadata": {},
     "output_type": "execute_result"
    }
   ],
   "source": [
    "check.first()"
   ]
  },
  {
   "cell_type": "code",
   "execution_count": null,
   "metadata": {
    "collapsed": true
   },
   "outputs": [],
   "source": []
  }
 ],
 "metadata": {
  "kernelspec": {
   "display_name": "Python 2",
   "language": "python",
   "name": "python2"
  },
  "language_info": {
   "codemirror_mode": {
    "name": "ipython",
    "version": 2
   },
   "file_extension": ".py",
   "mimetype": "text/x-python",
   "name": "python",
   "nbconvert_exporter": "python",
   "pygments_lexer": "ipython2",
   "version": "2.7.10"
  }
 },
 "nbformat": 4,
 "nbformat_minor": 0
}
